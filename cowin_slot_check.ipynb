{
 "cells": [
  {
   "cell_type": "code",
   "execution_count": 3,
   "metadata": {},
   "outputs": [],
   "source": [
    "# required libs"
   ]
  },
  {
   "cell_type": "code",
   "execution_count": 4,
   "metadata": {},
   "outputs": [],
   "source": [
    "#!pip install selenium\n",
    "import requests\n",
    "import datetime\n",
    "import json\n",
    "import pandas as pd\n",
    "import datetime"
   ]
  },
  {
   "cell_type": "code",
   "execution_count": 2,
   "metadata": {},
   "outputs": [],
   "source": [
    "#need to download a latest chrome diver for opening whatsapp web and scanning you qr code in it from the number you want to send messages"
   ]
  },
  {
   "cell_type": "code",
   "execution_count": 25,
   "metadata": {},
   "outputs": [
    {
     "name": "stdout",
     "output_type": "stream",
     "text": [
      "Chrome opened successfully!\n",
      "Accessing Whatsapp web\n"
     ]
    }
   ],
   "source": [
    "from selenium import webdriver\n",
    "import time\n",
    "from selenium.webdriver.common.by import By\n",
    "from selenium.webdriver.chrome.options import Options\n",
    "from selenium.webdriver.support.ui import WebDriverWait\n",
    "from selenium.webdriver.support import expected_conditions as EC\n",
    "from selenium.webdriver.common.keys import Keys\n",
    "import itertools\n",
    "import pandas as pd\n",
    "\n",
    "# Replace below path with the absolute path\n",
    "# to chromedriver in your computer\n",
    "\n",
    "driver = webdriver.Chrome(options=chrome_options, executable_path=\"path--to--chrome--driver\")\n",
    "wait = WebDriverWait(driver, 60)\n",
    "print(\"Chrome opened successfully!\")\n",
    "\n",
    "Web_whatsapp = 'https://web.whatsapp.com/'  # To go to whatsapp web\n",
    "driver.get(Web_whatsapp)\n",
    "print(\"Accessing Whatsapp web\")\n"
   ]
  },
  {
   "cell_type": "code",
   "execution_count": null,
   "metadata": {},
   "outputs": [],
   "source": [
    "# to know the state and district ID run the below said code\n",
    "\n",
    "for state_code in range(1,40):\n",
    "    print(\"State code: \", state_code)\n",
    "    response = requests.get(\"https://cdn-api.co-vin.in/api/v2/admin/location/districts/{}\".format(state_code))\n",
    "    json_data = json.loads(response.text)\n",
    "    for i in json_data[\"districts\"]:\n",
    "        print(i[\"district_id\"],'\\t', i[\"district_name\"])\n",
    "    print(\"\\n\")"
   ]
  },
  {
   "cell_type": "code",
   "execution_count": 26,
   "metadata": {},
   "outputs": [],
   "source": [
    "DIST_ID = 392 # Thane\n",
    "# DIST_ID = 395 # Mumbai\n",
    "# DIST_ID = 706 #Pithoragarh\n",
    "\n",
    "# Print available centre description (y/n)?\n",
    "print_flag = 'y'\n",
    "\n",
    "numdays = 7 # will check the status of next 7 days\n",
    "age = 55 # defaul age of person"
   ]
  },
  {
   "cell_type": "code",
   "execution_count": 27,
   "metadata": {},
   "outputs": [],
   "source": [
    "\n",
    "base = datetime.datetime.today()\n",
    "date_list = [base + datetime.timedelta(days=x) for x in range(numdays)]\n",
    "date_str = [x.strftime(\"%d-%m-%Y\") for x in date_list]"
   ]
  },
  {
   "cell_type": "code",
   "execution_count": 28,
   "metadata": {},
   "outputs": [],
   "source": [
    "\n",
    "\n",
    "def get_slot(age,date_str,DIST_ID):\n",
    "    slot_lst=[]\n",
    "    slot_lst.append(['For Age:',age,'starting date for next 20 days:',date_str[0], 'for location:',DIST_ID,'(Thane-392,Mumbai-395)'])\n",
    "    for INP_DATE in date_str:\n",
    "        URL = \"https://cdn-api.co-vin.in/api/v2/appointment/sessions/public/calendarByDistrict?district_id={}&date={}\".format(DIST_ID, INP_DATE)\n",
    "        headers = {'User-Agent': 'Mozilla/5.0 (Windows NT 6.1; WOW64) AppleWebKit/537.36 (KHTML, like Gecko) Chrome/56.0.2924.76 Safari/537.36'} # This is chrome, you can set whatever browser you like\n",
    "        response = requests.get(URL,headers=headers)\n",
    "        if response.ok:\n",
    "            resp_json = response.json()\n",
    "            #print(resp_json['centers'])\n",
    "            if resp_json['centers']:\n",
    "                slot_lst.append(\"Available Status on: {}\".format(INP_DATE))\n",
    "                if(print_flag=='y' or print_flag=='Y'):\n",
    "                    for center in resp_json['centers']:\n",
    "                        for session in center[\"sessions\"]:\n",
    "                            if session[\"min_age_limit\"] <= age and session[\"available_capacity\"]>0:\n",
    "                                slot_lst.append([center[\"name\"].upper(),center[\"block_name\"],\"Price: \"+center[\"fee_type\"],\"AVAILABLE CAPACITY>>>\"+str(session[\"available_capacity\"])])\n",
    "                                if(session[\"vaccine\"] != ''):\n",
    "                                    slot_lst.append(\"Vaccine: \"+session[\"vaccine\"])\n",
    "            else:\n",
    "                slot_lst.append(\"No available slots on {}\".format(INP_DATE))\n",
    "        else:\n",
    "            return 'No Response from COWIN Site'\n",
    "\n",
    "    return '\\n'.join(str(v) for v in slot_lst)"
   ]
  },
  {
   "cell_type": "code",
   "execution_count": 29,
   "metadata": {},
   "outputs": [],
   "source": [
    "i = 'Vaccination_Alerts' # here put name of the group or contact on your whatsapp contact list...it should be in your chat list...it will not create new chat\n",
    "j = 'All'\n",
    "k = 'Hi message from python'\n",
    "\n",
    "def sendwatsappmsg(i,j,k):\n",
    "    Search = wait.until(EC.element_to_be_clickable((By.XPATH,\"//div[@class='_2_1wd copyable-text selectable-text']\")))\n",
    "    time.sleep(2)\n",
    "\n",
    "    Search.send_keys(i)\n",
    "    time.sleep(1)\n",
    "    Search.send_keys(Keys.ENTER)\n",
    "    time.sleep(3)\n",
    "\n",
    "    Message = driver.find_elements_by_xpath('//*[@id=\"main\"]/footer/div[1]/div[2]/div/div[2]')[0]\n",
    "    time.sleep(2)\n",
    "\n",
    "    Message.send_keys('Hello ' + str(j) + ',')\n",
    "    time.sleep(1)\n",
    "    Message.send_keys(Keys.SHIFT, Keys.ENTER)\n",
    "    Message.send_keys(Keys.SHIFT, Keys.ENTER)\n",
    "    Message.send_keys('This is the LIVE status of *COWIN* Vaccination \\n' + str(k))\n",
    "    time.sleep(1)\n",
    "    Message.send_keys(Keys.ENTER)\n",
    "    print('Sent to ' + str(j))\n"
   ]
  },
  {
   "cell_type": "code",
   "execution_count": null,
   "metadata": {},
   "outputs": [],
   "source": [
    "from apscheduler.schedulers.blocking import BlockingScheduler\n",
    "\n",
    "def some_job():\n",
    "    age=30 # this is for age you or your family member is\n",
    "    DIST_ID = 392 #district code as obtained above\n",
    "    young_thane = get_slot(age,date_str,DIST_ID)\n",
    "    sendwatsappmsg(i,j,young_thane)\n",
    "    time.sleep(10)\n",
    "    age=50\n",
    "    DIST_ID = 392\n",
    "    old_thane = get_slot(age,date_str,DIST_ID)\n",
    "    sendwatsappmsg(i,j,old_thane)\n",
    "    time.sleep(10)\n",
    "    age=30\n",
    "    DIST_ID = 395\n",
    "    young_mum = get_slot(age,date_str,DIST_ID)\n",
    "    sendwatsappmsg(i,j,young_mum)\n",
    "    time.sleep(10)\n",
    "    age=50\n",
    "    DIST_ID = 395\n",
    "    old_mum = get_slot(age,date_str,DIST_ID)\n",
    "    sendwatsappmsg(i,j,old_mum)\n",
    "    time.sleep(10)\n",
    "\n",
    "scheduler = BlockingScheduler()\n",
    "scheduler.add_job(some_job, 'interval', minutes=45) #here the code will check the status every 45 mins and send an update on the whatsapp\n",
    "scheduler.start()"
   ]
  }
 ],
 "metadata": {
  "kernelspec": {
   "display_name": "Python 3",
   "language": "python",
   "name": "python3"
  },
  "language_info": {
   "codemirror_mode": {
    "name": "ipython",
    "version": 3
   },
   "file_extension": ".py",
   "mimetype": "text/x-python",
   "name": "python",
   "nbconvert_exporter": "python",
   "pygments_lexer": "ipython3",
   "version": "3.8.5"
  }
 },
 "nbformat": 4,
 "nbformat_minor": 4
}
